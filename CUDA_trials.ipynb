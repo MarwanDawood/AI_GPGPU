{
  "nbformat": 4,
  "nbformat_minor": 0,
  "metadata": {
    "colab": {
      "name": "CUDA_trials.ipynb",
      "provenance": [],
      "authorship_tag": "ABX9TyNrhWFB6PjDGQPuLorjBSoA",
      "include_colab_link": true
    },
    "kernelspec": {
      "name": "python3",
      "display_name": "Python 3"
    },
    "language_info": {
      "name": "python"
    },
    "accelerator": "GPU"
  },
  "cells": [
    {
      "cell_type": "markdown",
      "metadata": {
        "id": "view-in-github",
        "colab_type": "text"
      },
      "source": [
        "<a href=\"https://colab.research.google.com/github/MarwanDawood/AI_GPGPU/blob/main/CUDA_trials.ipynb\" target=\"_parent\"><img src=\"https://colab.research.google.com/assets/colab-badge.svg\" alt=\"Open In Colab\"/></a>"
      ]
    },
    {
      "cell_type": "markdown",
      "source": [
        "Steps are taken from https://www.geeksforgeeks.org/how-to-run-cuda-c-c-on-jupyter-notebook-in-google-colaboratory/\n",
        "\n",
        "1. Click on Runtime > Change runtime type > Hardware Accelerator > GPU > Save.\n",
        "2. Completely uninstall any previous CUDA versions.We need to refresh the Cloud Instance of CUDA."
      ],
      "metadata": {
        "id": "0dhP5LbnolYE"
      }
    },
    {
      "cell_type": "code",
      "execution_count": null,
      "metadata": {
        "id": "hRT7fwg2nIak"
      },
      "outputs": [],
      "source": [
        "!apt-get --purge remove cuda nvidia* libnvidia-*\n",
        "!dpkg -l | grep cuda- | awk '{print $2}' | xargs -n1 dpkg --purge\n",
        "!apt-get remove cuda-*\n",
        "!apt autoremove\n",
        "!apt-get update"
      ]
    },
    {
      "cell_type": "markdown",
      "source": [
        "3. Install CUDA Version 9 (You can just copy it in separate code block)."
      ],
      "metadata": {
        "id": "HpVUCLiBo52W"
      }
    },
    {
      "cell_type": "code",
      "source": [
        "!wget https://developer.nvidia.com/compute/cuda/9.2/Prod/local_installers/cuda-repo-ubuntu1604-9-2-local_9.2.88-1_amd64 -O cuda-repo-ubuntu1604-9-2-local_9.2.88-1_amd64.deb\n",
        "!dpkg -i cuda-repo-ubuntu1604-9-2-local_9.2.88-1_amd64.deb\n",
        "!apt-key add /var/cuda-repo-9-2-local/7fa2af80.pub\n",
        "!apt-get update\n",
        "!apt-get install cuda-9.2"
      ],
      "metadata": {
        "id": "l87JRlIFoYu8"
      },
      "execution_count": null,
      "outputs": []
    },
    {
      "cell_type": "markdown",
      "source": [
        "4. Now you can check your CUDA installation by running the command given below :"
      ],
      "metadata": {
        "id": "Z0V3JOTVpAHJ"
      }
    },
    {
      "cell_type": "code",
      "source": [
        "!nvcc --version"
      ],
      "metadata": {
        "colab": {
          "base_uri": "https://localhost:8080/"
        },
        "id": "51Y3nOxppXXV",
        "outputId": "ebef597e-1d97-45a9-d23b-380a98e6fa0d"
      },
      "execution_count": 23,
      "outputs": [
        {
          "output_type": "stream",
          "name": "stdout",
          "text": [
            "nvcc: NVIDIA (R) Cuda compiler driver\n",
            "Copyright (c) 2005-2020 NVIDIA Corporation\n",
            "Built on Mon_Oct_12_20:09:46_PDT_2020\n",
            "Cuda compilation tools, release 11.1, V11.1.105\n",
            "Build cuda_11.1.TC455_06.29190527_0\n"
          ]
        }
      ]
    },
    {
      "cell_type": "markdown",
      "source": [
        "5. Run the given command to install a small extension to run nvcc from the Notebook cells."
      ],
      "metadata": {
        "id": "IPLvW4DJ8C_f"
      }
    },
    {
      "cell_type": "code",
      "source": [
        "!pip install git+https://github.com/andreinechaev/nvcc4jupyter.git"
      ],
      "metadata": {
        "colab": {
          "base_uri": "https://localhost:8080/"
        },
        "id": "gmdZVFS68AG3",
        "outputId": "2b5f4799-6570-4d0d-b544-03ac6eb310f6"
      },
      "execution_count": 9,
      "outputs": [
        {
          "output_type": "stream",
          "name": "stdout",
          "text": [
            "Collecting git+https://github.com/andreinechaev/nvcc4jupyter.git\n",
            "  Cloning https://github.com/andreinechaev/nvcc4jupyter.git to /tmp/pip-req-build-rk_6r35g\n",
            "  Running command git clone -q https://github.com/andreinechaev/nvcc4jupyter.git /tmp/pip-req-build-rk_6r35g\n",
            "Building wheels for collected packages: NVCCPlugin\n",
            "  Building wheel for NVCCPlugin (setup.py) ... \u001b[?25l\u001b[?25hdone\n",
            "  Created wheel for NVCCPlugin: filename=NVCCPlugin-0.0.2-py3-none-any.whl size=4306 sha256=7c27558b48218c0592a6e40a2db2156de5a1bee5920b394b56e61c1a81d2ee6b\n",
            "  Stored in directory: /tmp/pip-ephem-wheel-cache-lx99yw04/wheels/ca/33/8d/3c86eb85e97d2b6169d95c6e8f2c297fdec60db6e84cb56f5e\n",
            "Successfully built NVCCPlugin\n",
            "Installing collected packages: NVCCPlugin\n",
            "Successfully installed NVCCPlugin-0.0.2\n"
          ]
        }
      ]
    },
    {
      "cell_type": "markdown",
      "source": [
        "6. Load the extension using the code given below:"
      ],
      "metadata": {
        "id": "DR0wYcjR8akD"
      }
    },
    {
      "cell_type": "code",
      "source": [
        "%load_ext nvcc_plugin"
      ],
      "metadata": {
        "colab": {
          "base_uri": "https://localhost:8080/"
        },
        "id": "iRAocyvw8Xpl",
        "outputId": "6d408dde-5409-4212-e99a-61d2ccc062f9"
      },
      "execution_count": 10,
      "outputs": [
        {
          "output_type": "stream",
          "name": "stdout",
          "text": [
            "created output directory at /content/src\n",
            "Out bin /content/result.out\n"
          ]
        }
      ]
    },
    {
      "cell_type": "code",
      "source": [
        "%%cu\n",
        "   \n",
        "#include <stdio.h>\n",
        "#include <cuda_runtime.h>\n",
        "\n",
        "int log2(int i)\n",
        "{\n",
        "    int r = 0;\n",
        "    while (i >>= 1) r++;\n",
        "    return r;\n",
        "}\n",
        "\n",
        "int bit_reverse(int w, int bits)\n",
        "{\n",
        "    int r = 0;\n",
        "    for (int i = 0; i < bits; i++)\n",
        "    {\n",
        "        int bit = (w & (1 << i)) >> i;\n",
        "        r |= bit << (bits - i - 1);\n",
        "    }\n",
        "    return r;\n",
        "}\n",
        "\n",
        "__global__ void naive_histo(int *d_bins, const int *d_in, const int BIN_COUNT)\n",
        "{\n",
        "    int myId = threadIdx.x + blockDim.x * blockIdx.x;\n",
        "    int myItem = d_in[myId];\n",
        "    int myBin = myItem % BIN_COUNT;\n",
        "    d_bins[myBin]++;\n",
        "}\n",
        "\n",
        "__global__ void simple_histo(int *d_bins, const int *d_in, const int BIN_COUNT)\n",
        "{\n",
        "    int myId = threadIdx.x + blockDim.x * blockIdx.x;\n",
        "    int myItem = d_in[myId];\n",
        "    int myBin = myItem % BIN_COUNT;\n",
        "    atomicAdd(&(d_bins[myBin]), 1);\n",
        "}\n",
        "\n",
        "\n",
        "int main(int argc, char **argv)\n",
        "{\n",
        "    int deviceCount;\n",
        "    cudaGetDeviceCount(&deviceCount);\n",
        "    if (deviceCount == 0) {\n",
        "        fprintf(stderr, \"error: no devices supporting CUDA.\\n\");\n",
        "        exit(EXIT_FAILURE);\n",
        "    }\n",
        "    int dev = 0;\n",
        "    cudaSetDevice(dev);\n",
        "\n",
        "    cudaDeviceProp devProps;\n",
        "    if (cudaGetDeviceProperties(&devProps, dev) == 0)\n",
        "    {\n",
        "        printf(\"Using device %d:\\n\", dev);\n",
        "        printf(\"%s; global mem: %dB; compute v%d.%d; clock: %d kHz\\n\",\n",
        "               devProps.name, (int)devProps.totalGlobalMem, \n",
        "               (int)devProps.major, (int)devProps.minor, \n",
        "               (int)devProps.clockRate);\n",
        "    }\n",
        "\n",
        "    const int ARRAY_SIZE = 65536;\n",
        "    const int ARRAY_BYTES = ARRAY_SIZE * sizeof(int);\n",
        "    const int BIN_COUNT = 16;\n",
        "    const int BIN_BYTES = BIN_COUNT * sizeof(int);\n",
        "\n",
        "    // generate the input array on the host\n",
        "    int h_in[ARRAY_SIZE];\n",
        "    for(int i = 0; i < ARRAY_SIZE; i++) {\n",
        "        h_in[i] = bit_reverse(i, log2(ARRAY_SIZE));\n",
        "    }\n",
        "    int h_bins[BIN_COUNT];\n",
        "    for(int i = 0; i < BIN_COUNT; i++) {\n",
        "        h_bins[i] = 0;\n",
        "    }\n",
        "\n",
        "    // declare GPU memory pointers\n",
        "    int * d_in;\n",
        "    int * d_bins;\n",
        "\n",
        "    // allocate GPU memory\n",
        "    cudaMalloc((void **) &d_in, ARRAY_BYTES);\n",
        "    cudaMalloc((void **) &d_bins, BIN_BYTES);\n",
        "\n",
        "    // transfer the arrays to the GPU\n",
        "    cudaMemcpy(d_in, h_in, ARRAY_BYTES, cudaMemcpyHostToDevice); \n",
        "    cudaMemcpy(d_bins, h_bins, BIN_BYTES, cudaMemcpyHostToDevice); \n",
        "\n",
        "    int whichKernel = 1;\n",
        "    if (argc == 2) {\n",
        "        whichKernel = atoi(argv[1]);\n",
        "    }\n",
        "        \n",
        "    // launch the kernel\n",
        "    switch(whichKernel) {\n",
        "    case 0:\n",
        "        printf(\"Running naive histo\\n\");\n",
        "        naive_histo<<<ARRAY_SIZE / 64, 64>>>(d_bins, d_in, BIN_COUNT);\n",
        "        break;\n",
        "    case 1:\n",
        "        printf(\"Running simple histo\\n\");\n",
        "        simple_histo<<<ARRAY_SIZE / 64, 64>>>(d_bins, d_in, BIN_COUNT);\n",
        "        break;\n",
        "    default:\n",
        "        fprintf(stderr, \"error: ran no kernel\\n\");\n",
        "        exit(EXIT_FAILURE);\n",
        "    }\n",
        "\n",
        "    // copy back the sum from GPU\n",
        "    cudaMemcpy(h_bins, d_bins, BIN_BYTES, cudaMemcpyDeviceToHost);\n",
        "\n",
        "    for(int i = 0; i < BIN_COUNT; i++) {\n",
        "        printf(\"bin %d: count %d\\n\", i, h_bins[i]);\n",
        "    }\n",
        "\n",
        "    // free GPU memory allocation\n",
        "    cudaFree(d_in);\n",
        "    cudaFree(d_bins);\n",
        "        \n",
        "    return 0;\n",
        "}"
      ],
      "metadata": {
        "colab": {
          "base_uri": "https://localhost:8080/"
        },
        "id": "ST2EKMLpnK6F",
        "outputId": "0964d386-42fc-4d33-def8-f319845ca5f6"
      },
      "execution_count": 24,
      "outputs": [
        {
          "output_type": "stream",
          "name": "stdout",
          "text": [
            "Using device 0:\n",
            "Tesla K80; global mem: -887947264B; compute v3.7; clock: 823500 kHz\n",
            "Running simple histo\n",
            "bin 0: count 0\n",
            "bin 1: count 0\n",
            "bin 2: count 0\n",
            "bin 3: count 0\n",
            "bin 4: count 0\n",
            "bin 5: count 0\n",
            "bin 6: count 0\n",
            "bin 7: count 0\n",
            "bin 8: count 0\n",
            "bin 9: count 0\n",
            "bin 10: count 0\n",
            "bin 11: count 0\n",
            "bin 12: count 0\n",
            "bin 13: count 0\n",
            "bin 14: count 0\n",
            "bin 15: count 0\n",
            "\n"
          ]
        }
      ]
    }
  ]
}